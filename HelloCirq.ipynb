{
 "cells": [
  {
   "cell_type": "code",
   "execution_count": 2,
   "id": "preliminary-gateway",
   "metadata": {},
   "outputs": [],
   "source": [
    "!pip install --quiet cirq"
   ]
  },
  {
   "cell_type": "code",
   "execution_count": 5,
   "id": "independent-aberdeen",
   "metadata": {},
   "outputs": [
    {
     "name": "stdout",
     "output_type": "stream",
     "text": [
      "Circuit:\n",
      "(0, 0): ───X───M('m')───\n",
      "Results:\n",
      "m=1111111111\n"
     ]
    }
   ],
   "source": [
    "import cirq\n",
    "\n",
    "qubit = cirq.GridQubit(0, 0)\n",
    "\n",
    "circuit = cirq.Circuit(\n",
    "    cirq.X(qubit),\n",
    "    cirq.measure(qubit, key='m')\n",
    ")\n",
    "\n",
    "print(\"Circuit:\")\n",
    "print(circuit)\n",
    "\n",
    "simulator = cirq.Simulator()\n",
    "result = simulator.run(circuit, repetitions=10)\n",
    "\n",
    "print(\"Results:\")\n",
    "print(result)"
   ]
  },
  {
   "cell_type": "code",
   "execution_count": 6,
   "id": "tutorial-banana",
   "metadata": {},
   "outputs": [
    {
     "name": "stdout",
     "output_type": "stream",
     "text": [
      "Circuit:\n",
      "0: ───H───@───M('z')───\n",
      "          │   │\n",
      "1: ───────X───M────────\n",
      "\n",
      "Measurements:\n",
      "Counter({0: 61, 3: 39})\n"
     ]
    }
   ],
   "source": [
    "# Produce a Bell State (entangled pair)\n",
    "import cirq\n",
    "\n",
    "qreg = [cirq.LineQubit(x) for x in range(2)]\n",
    "circ = cirq.Circuit()\n",
    "\n",
    "circ.append([cirq.H(qreg[0]),\n",
    "             cirq.CNOT(qreg[0], qreg[1])])\n",
    "\n",
    "circ.append(cirq.measure(*qreg, key=\"z\"))\n",
    "\n",
    "print(\"Circuit:\")\n",
    "print(circ)\n",
    "\n",
    "sim = cirq.Simulator()\n",
    "res = sim.run(circ, repetitions=100)\n",
    "\n",
    "print(\"\\nMeasurements:\")\n",
    "print(res.histogram(key=\"z\"))\n",
    "\n",
    "# Note that the counter states use a binary representation of states such that \"3\" is \"|11>\" and \"0\" is \"|00>\"."
   ]
  },
  {
   "cell_type": "code",
   "execution_count": null,
   "id": "economic-stereo",
   "metadata": {},
   "outputs": [],
   "source": []
  }
 ],
 "metadata": {
  "kernelspec": {
   "display_name": "Python 3",
   "language": "python",
   "name": "python3"
  },
  "language_info": {
   "codemirror_mode": {
    "name": "ipython",
    "version": 3
   },
   "file_extension": ".py",
   "mimetype": "text/x-python",
   "name": "python",
   "nbconvert_exporter": "python",
   "pygments_lexer": "ipython3",
   "version": "3.8.8"
  }
 },
 "nbformat": 4,
 "nbformat_minor": 5
}
