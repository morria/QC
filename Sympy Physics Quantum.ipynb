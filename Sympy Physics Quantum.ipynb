{
 "cells": [
  {
   "cell_type": "markdown",
   "metadata": {},
   "source": [
    "[See SymPy QM](https://docs.sympy.org/latest/modules/physics/quantum/dagger.html)"
   ]
  },
  {
   "cell_type": "code",
   "execution_count": 5,
   "metadata": {},
   "outputs": [],
   "source": [
    "%display typeset"
   ]
  },
  {
   "cell_type": "code",
   "execution_count": 6,
   "metadata": {},
   "outputs": [
    {
     "data": {
      "text/html": [
       "<html>\\[\\newcommand{\\Bold}[1]{\\mathbf{#1}}\\verb\"<Ψ|\"\\]</html>"
      ],
      "text/latex": [
       "$$\\newcommand{\\Bold}[1]{\\mathbf{#1}}\\verb\"<Ψ|\"$$"
      ],
      "text/plain": [
       "<Ψ|"
      ]
     },
     "metadata": {},
     "output_type": "display_data"
    },
    {
     "data": {
      "text/html": [
       "<html>\\[\\newcommand{\\Bold}[1]{\\mathbf{#1}}\\verb|H|\\]</html>"
      ],
      "text/latex": [
       "$$\\newcommand{\\Bold}[1]{\\mathbf{#1}}\\verb|H|$$"
      ],
      "text/plain": [
       "H"
      ]
     },
     "metadata": {},
     "output_type": "display_data"
    },
    {
     "data": {
      "text/html": [
       "<html>\\[\\newcommand{\\Bold}[1]{\\mathbf{#1}}\\mathrm{False}\\]</html>"
      ],
      "text/latex": [
       "$$\\newcommand{\\Bold}[1]{\\mathbf{#1}}\\mathrm{False}$$"
      ],
      "text/plain": [
       "False"
      ]
     },
     "metadata": {},
     "output_type": "display_data"
    },
    {
     "data": {
      "text/html": [
       "<html>\\[\\newcommand{\\Bold}[1]{\\mathbf{#1}}\\verb\"|Ψ>\"\\]</html>"
      ],
      "text/latex": [
       "$$\\newcommand{\\Bold}[1]{\\mathbf{#1}}\\verb\"|Ψ>\"$$"
      ],
      "text/plain": [
       "|Ψ>"
      ]
     },
     "metadata": {},
     "output_type": "display_data"
    },
    {
     "data": {
      "text/html": [
       "<html>\\[\\newcommand{\\Bold}[1]{\\mathbf{#1}}\\verb|<bound|\\phantom{\\verb!x!}\\verb|method|\\phantom{\\verb!x!}\\verb|Bra.dual_class|\\phantom{\\verb!x!}\\verb|of|\\phantom{\\verb!x!}\\verb|<class|\\phantom{\\verb!x!}\\verb|'sympy.physics.quantum.state.Bra'>>|\\]</html>"
      ],
      "text/latex": [
       "$$\\newcommand{\\Bold}[1]{\\mathbf{#1}}\\verb|<bound|\\phantom{\\verb!x!}\\verb|method|\\phantom{\\verb!x!}\\verb|Bra.dual_class|\\phantom{\\verb!x!}\\verb|of|\\phantom{\\verb!x!}\\verb|<class|\\phantom{\\verb!x!}\\verb|'sympy.physics.quantum.state.Bra'>>|$$"
      ],
      "text/plain": [
       "<bound method Bra.dual_class of <class 'sympy.physics.quantum.state.Bra'>>"
      ]
     },
     "metadata": {},
     "output_type": "display_data"
    }
   ],
   "source": [
    "# |Ψ⟩\n",
    "from sympy.physics.quantum import Bra\n",
    "from sympy import symbols, I\n",
    "b = Bra('Ψ')\n",
    "show(b)\n",
    "show(b.hilbert_space)\n",
    "show(b.is_commutative)\n",
    "show(b.dual)\n",
    "show(b.dual_class)\n",
    "n, m = symbols('n,m')\n",
    "b = Bra(n,m) - I*Bra(m,n)"
   ]
  },
  {
   "cell_type": "code",
   "execution_count": 8,
   "metadata": {},
   "outputs": [
    {
     "data": {
      "text/html": [
       "<html>\\[\\newcommand{\\Bold}[1]{\\mathbf{#1}}\\verb|<class|\\phantom{\\verb!x!}\\verb|'sympy.physics.quantum.pauli.SigmaX'>|\\]</html>"
      ],
      "text/latex": [
       "$$\\newcommand{\\Bold}[1]{\\mathbf{#1}}\\verb|<class|\\phantom{\\verb!x!}\\verb|'sympy.physics.quantum.pauli.SigmaX'>|$$"
      ],
      "text/plain": [
       "<class 'sympy.physics.quantum.pauli.SigmaX'>"
      ]
     },
     "metadata": {},
     "output_type": "display_data"
    },
    {
     "ename": "TypeError",
     "evalue": "unsupported operand type(s) for *: 'Bra' and 'ManagedProperties'",
     "output_type": "error",
     "traceback": [
      "\u001b[0;31m---------------------------------------------------------------------------\u001b[0m",
      "\u001b[0;31mTypeError\u001b[0m                                 Traceback (most recent call last)",
      "\u001b[0;32m<ipython-input-8-3e3db8e97cd3>\u001b[0m in \u001b[0;36m<module>\u001b[0;34m\u001b[0m\n\u001b[1;32m      8\u001b[0m \u001b[0mb0\u001b[0m \u001b[0;34m=\u001b[0m \u001b[0mk1\u001b[0m\u001b[0;34m.\u001b[0m\u001b[0mdual\u001b[0m\u001b[0;34m;\u001b[0m\u001b[0;34m\u001b[0m\u001b[0;34m\u001b[0m\u001b[0m\n\u001b[1;32m      9\u001b[0m \u001b[0mshow\u001b[0m\u001b[0;34m(\u001b[0m\u001b[0mrepresent\u001b[0m\u001b[0;34m(\u001b[0m\u001b[0mSigmaX\u001b[0m\u001b[0;34m)\u001b[0m\u001b[0;34m)\u001b[0m\u001b[0;34m\u001b[0m\u001b[0;34m\u001b[0m\u001b[0m\n\u001b[0;32m---> 10\u001b[0;31m \u001b[0mshow\u001b[0m\u001b[0;34m(\u001b[0m\u001b[0mb0\u001b[0m \u001b[0;34m*\u001b[0m \u001b[0mSigmaX\u001b[0m \u001b[0;34m*\u001b[0m \u001b[0mk0\u001b[0m\u001b[0;34m)\u001b[0m\u001b[0;34m\u001b[0m\u001b[0;34m\u001b[0m\u001b[0m\n\u001b[0m",
      "\u001b[0;31mTypeError\u001b[0m: unsupported operand type(s) for *: 'Bra' and 'ManagedProperties'"
     ]
    }
   ],
   "source": [
    "from sympy.physics.quantum import Bra, Ket\n",
    "from sympy.physics.quantum import Operator\n",
    "from sympy.physics.quantum.pauli import SigmaX\n",
    "from sympy.physics.quantum import represent\n",
    "k0 = Ket(0);\n",
    "b0 = k0.dual;\n",
    "k1 = Ket(1);\n",
    "b0 = k1.dual;\n",
    "show(represent(SigmaX))\n",
    "show(b0 * SigmaX * k0)"
   ]
  },
  {
   "cell_type": "code",
   "execution_count": 10,
   "metadata": {},
   "outputs": [
    {
     "data": {
      "text/html": [
       "<html>\\[\\newcommand{\\Bold}[1]{\\mathbf{#1}}\\verb|<sympy.physics.quantum.circuitplot.CircuitPlot|\\phantom{\\verb!x!}\\verb|object|\\phantom{\\verb!x!}\\verb|at|\\phantom{\\verb!x!}\\verb|0x7f88d5086280>|\\]</html>"
      ],
      "text/latex": [
       "$$\\newcommand{\\Bold}[1]{\\mathbf{#1}}\\verb|<sympy.physics.quantum.circuitplot.CircuitPlot|\\phantom{\\verb!x!}\\verb|object|\\phantom{\\verb!x!}\\verb|at|\\phantom{\\verb!x!}\\verb|0x7f88d5086280>|$$"
      ],
      "text/plain": [
       "<sympy.physics.quantum.circuitplot.CircuitPlot object at 0x7f88d5086280>"
      ]
     },
     "metadata": {},
     "output_type": "display_data"
    },
    {
     "data": {
      "image/png": "[encoded data removed]",
      "text/plain": [
       "<Figure size 504x216 with 1 Axes>"
      ]
     },
     "metadata": {},
     "output_type": "display_data"
    }
   ],
   "source": [
    "%display default\n",
    "from sympy.physics.quantum.circuitplot import labeller, render_label, Mz, CreateOneQubitGate, CreateCGate\n",
    "from sympy.physics.quantum.gate import CNOT, H, SWAP, CGate, S, T\n",
    "from sympy.physics.quantum.circuitplot import CircuitPlot\n",
    "\n",
    "c = CircuitPlot(\n",
    "    SWAP(0,2) * \n",
    "    H(0) *\n",
    "    CGate((0,),S(1)) *\n",
    "    H(1) *\n",
    "    CGate((0,),T(2)) *\n",
    "    CGate((1,),S(2)) *\n",
    "    H(2)\n",
    "    ,\n",
    "    3\n",
    "    ,\n",
    "    labels=labeller(3,'j')\n",
    ")\n",
    "\n",
    "show(c)"
   ]
  },
  {
   "cell_type": "code",
   "execution_count": null,
   "metadata": {},
   "outputs": [],
   "source": []
  }
 ],
 "metadata": {
  "kernelspec": {
   "display_name": "SageMath 9.4",
   "language": "sage",
   "name": "sagemath"
  },
  "language_info": {
   "codemirror_mode": {
    "name": "ipython",
    "version": 3
   },
   "file_extension": ".py",
   "mimetype": "text/x-python",
   "name": "python",
   "nbconvert_exporter": "python",
   "pygments_lexer": "ipython3",
   "version": "3.9.5"
  }
 },
 "nbformat": 4,
 "nbformat_minor": 4
}
