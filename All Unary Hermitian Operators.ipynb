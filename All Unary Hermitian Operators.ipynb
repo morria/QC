{
 "cells": [
  {
   "cell_type": "markdown",
   "metadata": {},
   "source": [
    "# All Hermitian Operators\n",
    "\n",
    "The goal here is the explore the space of all possible Hermitian operators."
   ]
  },
  {
   "cell_type": "code",
   "execution_count": 1,
   "metadata": {},
   "outputs": [],
   "source": [
    "%display typeset\n",
    "%run -i definitions.py"
   ]
  },
  {
   "cell_type": "markdown",
   "metadata": {},
   "source": [
    "# Hermitian Operators\n",
    "\n",
    "* Operators keep the probability of states normalized to 1\n",
    "* Operators are reversible, which is to say $U^{-1} = U$\n",
    "* Operators are unitary, which is to say $U^\\dagger = I$\n",
    "\n",
    "Observables in quantum mechanics are represented by linear operators that are equal to their own Hermitian conjugates.\n",
    "\n",
    "$$\n",
    "M = M^\\dagger\n",
    "$$\n",
    "\n",
    "which is to say\n",
    "\n",
    "$$\n",
    "m_{ji} = m^*_{ij}\n",
    "$$\n",
    "\n",
    "implying that if you flip a Hermitian matrix about the main diagonal and then take its complex conjugage, the result is the same as the original matrix.\n",
    "\n"
   ]
  },
  {
   "cell_type": "code",
   "execution_count": 21,
   "metadata": {},
   "outputs": [],
   "source": [
    "def isHermitian(M):\n",
    "    return M == hermitianConjugate(M)\n",
    "\n",
    "def isNormalizable(M):\n",
    "    return M != matrix(M.nrows(), M.ncols()) and all([M[:][i] != matrix(M.nrows()) for i in range(0, M.ncols() - 1)])\n",
    "\n",
    "def normalize(M):\n",
    "    return \n",
    "\n",
    "\n",
    " state/sqrt((state.conjugate().transpose() * state)[0][0]);"
   ]
  },
  {
   "cell_type": "code",
   "execution_count": 27,
   "metadata": {},
   "outputs": [
    {
     "data": {
      "text/html": [
       "<html>\\[\\newcommand{\\Bold}[1]{\\mathbf{#1}}26\\]</html>"
      ],
      "text/latex": [
       "$$\\newcommand{\\Bold}[1]{\\mathbf{#1}}26$$"
      ],
      "text/plain": [
       "26"
      ]
     },
     "metadata": {},
     "output_type": "display_data"
    },
    {
     "data": {
      "text/html": [
       "<html>\\[\\newcommand{\\Bold}[1]{\\mathbf{#1}}\\left[\\left(\\begin{array}{rr}\n",
       "-1 & -i - 1 \\\\\n",
       "i - 1 & -1\n",
       "\\end{array}\\right), \\left(\\begin{array}{rr}\n",
       "-1 & -1 \\\\\n",
       "-1 & -1\n",
       "\\end{array}\\right), \\left(\\begin{array}{rr}\n",
       "-1 & i - 1 \\\\\n",
       "-i - 1 & -1\n",
       "\\end{array}\\right), \\left(\\begin{array}{rr}\n",
       "-1 & -i \\\\\n",
       "i & -1\n",
       "\\end{array}\\right), \\left(\\begin{array}{rr}\n",
       "-1 & 0 \\\\\n",
       "0 & -1\n",
       "\\end{array}\\right), \\left(\\begin{array}{rr}\n",
       "-1 & i \\\\\n",
       "-i & -1\n",
       "\\end{array}\\right), \\left(\\begin{array}{rr}\n",
       "-1 & -i + 1 \\\\\n",
       "i + 1 & -1\n",
       "\\end{array}\\right), \\left(\\begin{array}{rr}\n",
       "-1 & 1 \\\\\n",
       "1 & -1\n",
       "\\end{array}\\right), \\left(\\begin{array}{rr}\n",
       "-1 & i + 1 \\\\\n",
       "-i + 1 & -1\n",
       "\\end{array}\\right), \\left(\\begin{array}{rr}\n",
       "0 & -i - 1 \\\\\n",
       "i - 1 & 0\n",
       "\\end{array}\\right), \\left(\\begin{array}{rr}\n",
       "0 & -1 \\\\\n",
       "-1 & 0\n",
       "\\end{array}\\right), \\left(\\begin{array}{rr}\n",
       "0 & i - 1 \\\\\n",
       "-i - 1 & 0\n",
       "\\end{array}\\right), \\left(\\begin{array}{rr}\n",
       "0 & -i \\\\\n",
       "i & 0\n",
       "\\end{array}\\right), \\left(\\begin{array}{rr}\n",
       "0 & i \\\\\n",
       "-i & 0\n",
       "\\end{array}\\right), \\left(\\begin{array}{rr}\n",
       "0 & -i + 1 \\\\\n",
       "i + 1 & 0\n",
       "\\end{array}\\right), \\left(\\begin{array}{rr}\n",
       "0 & 1 \\\\\n",
       "1 & 0\n",
       "\\end{array}\\right), \\left(\\begin{array}{rr}\n",
       "0 & i + 1 \\\\\n",
       "-i + 1 & 0\n",
       "\\end{array}\\right), \\left(\\begin{array}{rr}\n",
       "1 & -i - 1 \\\\\n",
       "i - 1 & 1\n",
       "\\end{array}\\right), \\left(\\begin{array}{rr}\n",
       "1 & -1 \\\\\n",
       "-1 & 1\n",
       "\\end{array}\\right), \\left(\\begin{array}{rr}\n",
       "1 & i - 1 \\\\\n",
       "-i - 1 & 1\n",
       "\\end{array}\\right), \\left(\\begin{array}{rr}\n",
       "1 & -i \\\\\n",
       "i & 1\n",
       "\\end{array}\\right), \\left(\\begin{array}{rr}\n",
       "1 & 0 \\\\\n",
       "0 & 1\n",
       "\\end{array}\\right), \\left(\\begin{array}{rr}\n",
       "1 & i \\\\\n",
       "-i & 1\n",
       "\\end{array}\\right), \\left(\\begin{array}{rr}\n",
       "1 & -i + 1 \\\\\n",
       "i + 1 & 1\n",
       "\\end{array}\\right), \\left(\\begin{array}{rr}\n",
       "1 & 1 \\\\\n",
       "1 & 1\n",
       "\\end{array}\\right), \\left(\\begin{array}{rr}\n",
       "1 & i + 1 \\\\\n",
       "-i + 1 & 1\n",
       "\\end{array}\\right)\\right]\\]</html>"
      ],
      "text/latex": [
       "$$\\newcommand{\\Bold}[1]{\\mathbf{#1}}\\left[\\left(\\begin{array}{rr}\n",
       "-1 & -i - 1 \\\\\n",
       "i - 1 & -1\n",
       "\\end{array}\\right), \\left(\\begin{array}{rr}\n",
       "-1 & -1 \\\\\n",
       "-1 & -1\n",
       "\\end{array}\\right), \\left(\\begin{array}{rr}\n",
       "-1 & i - 1 \\\\\n",
       "-i - 1 & -1\n",
       "\\end{array}\\right), \\left(\\begin{array}{rr}\n",
       "-1 & -i \\\\\n",
       "i & -1\n",
       "\\end{array}\\right), \\left(\\begin{array}{rr}\n",
       "-1 & 0 \\\\\n",
       "0 & -1\n",
       "\\end{array}\\right), \\left(\\begin{array}{rr}\n",
       "-1 & i \\\\\n",
       "-i & -1\n",
       "\\end{array}\\right), \\left(\\begin{array}{rr}\n",
       "-1 & -i + 1 \\\\\n",
       "i + 1 & -1\n",
       "\\end{array}\\right), \\left(\\begin{array}{rr}\n",
       "-1 & 1 \\\\\n",
       "1 & -1\n",
       "\\end{array}\\right), \\left(\\begin{array}{rr}\n",
       "-1 & i + 1 \\\\\n",
       "-i + 1 & -1\n",
       "\\end{array}\\right), \\left(\\begin{array}{rr}\n",
       "0 & -i - 1 \\\\\n",
       "i - 1 & 0\n",
       "\\end{array}\\right), \\left(\\begin{array}{rr}\n",
       "0 & -1 \\\\\n",
       "-1 & 0\n",
       "\\end{array}\\right), \\left(\\begin{array}{rr}\n",
       "0 & i - 1 \\\\\n",
       "-i - 1 & 0\n",
       "\\end{array}\\right), \\left(\\begin{array}{rr}\n",
       "0 & -i \\\\\n",
       "i & 0\n",
       "\\end{array}\\right), \\left(\\begin{array}{rr}\n",
       "0 & i \\\\\n",
       "-i & 0\n",
       "\\end{array}\\right), \\left(\\begin{array}{rr}\n",
       "0 & -i + 1 \\\\\n",
       "i + 1 & 0\n",
       "\\end{array}\\right), \\left(\\begin{array}{rr}\n",
       "0 & 1 \\\\\n",
       "1 & 0\n",
       "\\end{array}\\right), \\left(\\begin{array}{rr}\n",
       "0 & i + 1 \\\\\n",
       "-i + 1 & 0\n",
       "\\end{array}\\right), \\left(\\begin{array}{rr}\n",
       "1 & -i - 1 \\\\\n",
       "i - 1 & 1\n",
       "\\end{array}\\right), \\left(\\begin{array}{rr}\n",
       "1 & -1 \\\\\n",
       "-1 & 1\n",
       "\\end{array}\\right), \\left(\\begin{array}{rr}\n",
       "1 & i - 1 \\\\\n",
       "-i - 1 & 1\n",
       "\\end{array}\\right), \\left(\\begin{array}{rr}\n",
       "1 & -i \\\\\n",
       "i & 1\n",
       "\\end{array}\\right), \\left(\\begin{array}{rr}\n",
       "1 & 0 \\\\\n",
       "0 & 1\n",
       "\\end{array}\\right), \\left(\\begin{array}{rr}\n",
       "1 & i \\\\\n",
       "-i & 1\n",
       "\\end{array}\\right), \\left(\\begin{array}{rr}\n",
       "1 & -i + 1 \\\\\n",
       "i + 1 & 1\n",
       "\\end{array}\\right), \\left(\\begin{array}{rr}\n",
       "1 & 1 \\\\\n",
       "1 & 1\n",
       "\\end{array}\\right), \\left(\\begin{array}{rr}\n",
       "1 & i + 1 \\\\\n",
       "-i + 1 & 1\n",
       "\\end{array}\\right)\\right]$$"
      ],
      "text/plain": [
       "[\n",
       "[    -1 -I - 1]  [-1 -1]  [    -1  I - 1]  [-1 -I]  [-1  0]  [-1  I]\n",
       "[ I - 1     -1], [-1 -1], [-I - 1     -1], [ I -1], [ 0 -1], [-I -1],\n",
       "\n",
       "[    -1 -I + 1]  [-1  1]  [    -1  I + 1]  [     0 -I - 1]  [ 0 -1]\n",
       "[ I + 1     -1], [ 1 -1], [-I + 1     -1], [ I - 1      0], [-1  0],\n",
       "\n",
       "[     0  I - 1]  [ 0 -I]  [ 0  I]  [     0 -I + 1]  [0 1]\n",
       "[-I - 1      0], [ I  0], [-I  0], [ I + 1      0], [1 0],\n",
       "\n",
       "[     0  I + 1]  [     1 -I - 1]  [ 1 -1]  [     1  I - 1]  [ 1 -I]\n",
       "[-I + 1      0], [ I - 1      1], [-1  1], [-I - 1      1], [ I  1],\n",
       "\n",
       "[1 0]  [ 1  I]  [     1 -I + 1]  [1 1]  [     1  I + 1]\n",
       "[0 1], [-I  1], [ I + 1      1], [1 1], [-I + 1      1]\n",
       "]"
      ]
     },
     "metadata": {},
     "output_type": "display_data"
    },
    {
     "data": {
      "text/html": [
       "<html>\\[\\newcommand{\\Bold}[1]{\\mathbf{#1}}\\left[\\left(\\begin{array}{r}\n",
       "-1 \\\\\n",
       "i - 1\n",
       "\\end{array}\\right), \\left(\\begin{array}{r}\n",
       "-1 \\\\\n",
       "-1\n",
       "\\end{array}\\right), \\left(\\begin{array}{r}\n",
       "-1 \\\\\n",
       "-i - 1\n",
       "\\end{array}\\right), \\left(\\begin{array}{r}\n",
       "-1 \\\\\n",
       "i\n",
       "\\end{array}\\right), \\left(\\begin{array}{r}\n",
       "-1 \\\\\n",
       "0\n",
       "\\end{array}\\right), \\left(\\begin{array}{r}\n",
       "-1 \\\\\n",
       "-i\n",
       "\\end{array}\\right), \\left(\\begin{array}{r}\n",
       "-1 \\\\\n",
       "i + 1\n",
       "\\end{array}\\right), \\left(\\begin{array}{r}\n",
       "-1 \\\\\n",
       "1\n",
       "\\end{array}\\right), \\left(\\begin{array}{r}\n",
       "-1 \\\\\n",
       "-i + 1\n",
       "\\end{array}\\right), \\left(\\begin{array}{r}\n",
       "0 \\\\\n",
       "i - 1\n",
       "\\end{array}\\right), \\left(\\begin{array}{r}\n",
       "0 \\\\\n",
       "-1\n",
       "\\end{array}\\right), \\left(\\begin{array}{r}\n",
       "0 \\\\\n",
       "-i - 1\n",
       "\\end{array}\\right), \\left(\\begin{array}{r}\n",
       "0 \\\\\n",
       "i\n",
       "\\end{array}\\right), \\left(\\begin{array}{r}\n",
       "0 \\\\\n",
       "-i\n",
       "\\end{array}\\right), \\left(\\begin{array}{r}\n",
       "0 \\\\\n",
       "i + 1\n",
       "\\end{array}\\right), \\left(\\begin{array}{r}\n",
       "0 \\\\\n",
       "1\n",
       "\\end{array}\\right), \\left(\\begin{array}{r}\n",
       "0 \\\\\n",
       "-i + 1\n",
       "\\end{array}\\right), \\left(\\begin{array}{r}\n",
       "1 \\\\\n",
       "i - 1\n",
       "\\end{array}\\right), \\left(\\begin{array}{r}\n",
       "1 \\\\\n",
       "-1\n",
       "\\end{array}\\right), \\left(\\begin{array}{r}\n",
       "1 \\\\\n",
       "-i - 1\n",
       "\\end{array}\\right), \\left(\\begin{array}{r}\n",
       "1 \\\\\n",
       "i\n",
       "\\end{array}\\right), \\left(\\begin{array}{r}\n",
       "1 \\\\\n",
       "0\n",
       "\\end{array}\\right), \\left(\\begin{array}{r}\n",
       "1 \\\\\n",
       "-i\n",
       "\\end{array}\\right), \\left(\\begin{array}{r}\n",
       "1 \\\\\n",
       "i + 1\n",
       "\\end{array}\\right), \\left(\\begin{array}{r}\n",
       "1 \\\\\n",
       "1\n",
       "\\end{array}\\right), \\left(\\begin{array}{r}\n",
       "1 \\\\\n",
       "-i + 1\n",
       "\\end{array}\\right)\\right]\\]</html>"
      ],
      "text/latex": [
       "$$\\newcommand{\\Bold}[1]{\\mathbf{#1}}\\left[\\left(\\begin{array}{r}\n",
       "-1 \\\\\n",
       "i - 1\n",
       "\\end{array}\\right), \\left(\\begin{array}{r}\n",
       "-1 \\\\\n",
       "-1\n",
       "\\end{array}\\right), \\left(\\begin{array}{r}\n",
       "-1 \\\\\n",
       "-i - 1\n",
       "\\end{array}\\right), \\left(\\begin{array}{r}\n",
       "-1 \\\\\n",
       "i\n",
       "\\end{array}\\right), \\left(\\begin{array}{r}\n",
       "-1 \\\\\n",
       "0\n",
       "\\end{array}\\right), \\left(\\begin{array}{r}\n",
       "-1 \\\\\n",
       "-i\n",
       "\\end{array}\\right), \\left(\\begin{array}{r}\n",
       "-1 \\\\\n",
       "i + 1\n",
       "\\end{array}\\right), \\left(\\begin{array}{r}\n",
       "-1 \\\\\n",
       "1\n",
       "\\end{array}\\right), \\left(\\begin{array}{r}\n",
       "-1 \\\\\n",
       "-i + 1\n",
       "\\end{array}\\right), \\left(\\begin{array}{r}\n",
       "0 \\\\\n",
       "i - 1\n",
       "\\end{array}\\right), \\left(\\begin{array}{r}\n",
       "0 \\\\\n",
       "-1\n",
       "\\end{array}\\right), \\left(\\begin{array}{r}\n",
       "0 \\\\\n",
       "-i - 1\n",
       "\\end{array}\\right), \\left(\\begin{array}{r}\n",
       "0 \\\\\n",
       "i\n",
       "\\end{array}\\right), \\left(\\begin{array}{r}\n",
       "0 \\\\\n",
       "-i\n",
       "\\end{array}\\right), \\left(\\begin{array}{r}\n",
       "0 \\\\\n",
       "i + 1\n",
       "\\end{array}\\right), \\left(\\begin{array}{r}\n",
       "0 \\\\\n",
       "1\n",
       "\\end{array}\\right), \\left(\\begin{array}{r}\n",
       "0 \\\\\n",
       "-i + 1\n",
       "\\end{array}\\right), \\left(\\begin{array}{r}\n",
       "1 \\\\\n",
       "i - 1\n",
       "\\end{array}\\right), \\left(\\begin{array}{r}\n",
       "1 \\\\\n",
       "-1\n",
       "\\end{array}\\right), \\left(\\begin{array}{r}\n",
       "1 \\\\\n",
       "-i - 1\n",
       "\\end{array}\\right), \\left(\\begin{array}{r}\n",
       "1 \\\\\n",
       "i\n",
       "\\end{array}\\right), \\left(\\begin{array}{r}\n",
       "1 \\\\\n",
       "0\n",
       "\\end{array}\\right), \\left(\\begin{array}{r}\n",
       "1 \\\\\n",
       "-i\n",
       "\\end{array}\\right), \\left(\\begin{array}{r}\n",
       "1 \\\\\n",
       "i + 1\n",
       "\\end{array}\\right), \\left(\\begin{array}{r}\n",
       "1 \\\\\n",
       "1\n",
       "\\end{array}\\right), \\left(\\begin{array}{r}\n",
       "1 \\\\\n",
       "-i + 1\n",
       "\\end{array}\\right)\\right]$$"
      ],
      "text/plain": [
       "[\n",
       "[   -1]  [-1]  [    -1]  [-1]  [-1]  [-1]  [   -1]  [-1]  [    -1]\n",
       "[I - 1], [-1], [-I - 1], [ I], [ 0], [-I], [I + 1], [ 1], [-I + 1],\n",
       "\n",
       "[    0]  [ 0]  [     0]  [0]  [ 0]  [    0]  [0]  [     0]  [    1]\n",
       "[I - 1], [-1], [-I - 1], [I], [-I], [I + 1], [1], [-I + 1], [I - 1],\n",
       "\n",
       "[ 1]  [     1]  [1]  [1]  [ 1]  [    1]  [1]  [     1]\n",
       "[-1], [-I - 1], [I], [0], [-I], [I + 1], [1], [-I + 1]\n",
       "]"
      ]
     },
     "metadata": {},
     "output_type": "display_data"
    }
   ],
   "source": [
    "a_r, b_r, b_i, c_i = var('a_r, b_r, b_i, c_i');\n",
    "assume(a_r, 'real')\n",
    "assume(b_r, 'real')\n",
    "\n",
    "# Unary Hermitian operators will take the form\n",
    "# ------------------------------\n",
    "# | a_r            b_r + i*b_i |\n",
    "# | b_r + i*c_i    a_r         |\n",
    "# ------------------------------\n",
    "\n",
    "\n",
    "hash = lambda M: ','.join([','.join([str(x) for x in r.list(False)]) for r in M.rows()])\n",
    "known = set([hash(M) for M in [X, Y, Z, H, I, S, T]])\n",
    "\n",
    "U = [];\n",
    "for a_r in [-1, 0, 1]:\n",
    "    for b_r in [-1, 0, 1]:\n",
    "        for b_i in [-1, 0, 1]:\n",
    "            for c_i in [-1, 0, 1]:\n",
    "                F = matrix([[a_r, b_r + b_i * i], [b_r + c_i * i, a_r]]);\n",
    "#                if isNormalizable(F) and isHermitian(F) and hash(F) in known:\n",
    "                if isNormalizable(F) and isHermitian(F):\n",
    "                    U.append(F)\n",
    "\n",
    "show(len(U))\n",
    "show(U)\n",
    "show([F*ket0 for F in U])"
   ]
  },
  {
   "cell_type": "code",
   "execution_count": 7,
   "metadata": {},
   "outputs": [],
   "source": [
    "# show(U[12], Y)\n",
    "# show(hash(U[12])== hash(Y))"
   ]
  },
  {
   "cell_type": "code",
   "execution_count": null,
   "metadata": {},
   "outputs": [],
   "source": [
    "def isRepresentable(state):\n",
    "    try:\n",
    "        state_to_spherical_coordinates(state)\n",
    "        return True;\n",
    "    except BaseException:\n",
    "        return False;\n",
    "\n",
    "def isNonDegenerate(state):\n",
    "    return state != matrix(state.nrows(), state.ncols());\n",
    "\n",
    "U_nd = [];\n",
    "for i in range(0, len(U) - 1):\n",
    "    non_degenerate = all([isRepresentable(U[i] * state) and isNonDegenerate(U[i] * state) for state in [ket0, ket1, ketI, ketINeg, ketPlus, ketMinus]]);\n",
    "    if non_degenerate:\n",
    "        U_nd.append(U[i])\n",
    "\n",
    "show(U)\n",
    "show([X, Y, Z, H, I, S, T])\n",
    "U_nd"
   ]
  },
  {
   "cell_type": "code",
   "execution_count": null,
   "metadata": {},
   "outputs": [],
   "source": [
    "bases = [\n",
    "    ket0,\n",
    "#    ket1,\n",
    "#    ketI,\n",
    "#    ketINeg,\n",
    "#    ketPlus,\n",
    "#    ketMinus\n",
    "];\n",
    "\n",
    "show(\n",
    "    bloch(ket0, vector_rgbcolor=(1, 0, 0))\n",
    "    + sum([sum([bloch_vector(normalize(i * b), rgbcolor=(0, 1, 0)) for i in U_nd[0:1]]) for b in bases])    ,\n",
    "    frame=False\n",
    ");"
   ]
  },
  {
   "cell_type": "code",
   "execution_count": null,
   "metadata": {},
   "outputs": [],
   "source": [
    "show(\n",
    "    bloch(ket1, vector_rgbcolor=(1, 0, 0))\n",
    "    + bloch_vector(R(pi) * ket1, rgbcolor=(0, 1, 0))\n",
    "    ,\n",
    "    frame=False\n",
    ");"
   ]
  },
  {
   "cell_type": "code",
   "execution_count": null,
   "metadata": {},
   "outputs": [],
   "source": [
    "show(ket1, R(pi) * ket1)"
   ]
  },
  {
   "cell_type": "code",
   "execution_count": 8,
   "metadata": {},
   "outputs": [
    {
     "data": {
      "text/html": [
       "<html>\\[\\newcommand{\\Bold}[1]{\\mathbf{#1}}\\left(\\begin{array}{rr}\n",
       "1 & 0 \\\\\n",
       "0 & 1\n",
       "\\end{array}\\right) \\left(\\begin{array}{rr}\n",
       "0 & 1 \\\\\n",
       "1 & 0\n",
       "\\end{array}\\right) \\left(\\begin{array}{rr}\n",
       "0 & -i \\\\\n",
       "i & 0\n",
       "\\end{array}\\right) \\left(\\begin{array}{rr}\n",
       "1 & 0 \\\\\n",
       "0 & -1\n",
       "\\end{array}\\right) \\left(\\begin{array}{rr}\n",
       "\\frac{1}{2} \\, \\sqrt{2} & \\frac{1}{2} \\, \\sqrt{2} \\\\\n",
       "\\frac{1}{2} \\, \\sqrt{2} & -\\frac{1}{2} \\, \\sqrt{2}\n",
       "\\end{array}\\right) \\left(\\begin{array}{rr}\n",
       "1 & 0 \\\\\n",
       "0 & i\n",
       "\\end{array}\\right) \\left(\\begin{array}{rr}\n",
       "1 & 0 \\\\\n",
       "0 & \\left(\\frac{1}{2} i + \\frac{1}{2}\\right) \\, \\sqrt{2}\n",
       "\\end{array}\\right)\\]</html>"
      ],
      "text/latex": [
       "$$\\newcommand{\\Bold}[1]{\\mathbf{#1}}\\left(\\begin{array}{rr}\n",
       "1 & 0 \\\\\n",
       "0 & 1\n",
       "\\end{array}\\right) \\left(\\begin{array}{rr}\n",
       "0 & 1 \\\\\n",
       "1 & 0\n",
       "\\end{array}\\right) \\left(\\begin{array}{rr}\n",
       "0 & -i \\\\\n",
       "i & 0\n",
       "\\end{array}\\right) \\left(\\begin{array}{rr}\n",
       "1 & 0 \\\\\n",
       "0 & -1\n",
       "\\end{array}\\right) \\left(\\begin{array}{rr}\n",
       "\\frac{1}{2} \\, \\sqrt{2} & \\frac{1}{2} \\, \\sqrt{2} \\\\\n",
       "\\frac{1}{2} \\, \\sqrt{2} & -\\frac{1}{2} \\, \\sqrt{2}\n",
       "\\end{array}\\right) \\left(\\begin{array}{rr}\n",
       "1 & 0 \\\\\n",
       "0 & i\n",
       "\\end{array}\\right) \\left(\\begin{array}{rr}\n",
       "1 & 0 \\\\\n",
       "0 & \\left(\\frac{1}{2} i + \\frac{1}{2}\\right) \\, \\sqrt{2}\n",
       "\\end{array}\\right)$$"
      ],
      "text/plain": [
       "[1 0]\n",
       "[0 1] [0 1]\n",
       "[1 0] [ 0 -I]\n",
       "[ I  0] [ 1  0]\n",
       "[ 0 -1] [ 1/2*sqrt(2)  1/2*sqrt(2)]\n",
       "[ 1/2*sqrt(2) -1/2*sqrt(2)] [1 0]\n",
       "[0 I] [                    1                     0]\n",
       "[                    0 (1/2*I + 1/2)*sqrt(2)]"
      ]
     },
     "metadata": {},
     "output_type": "display_data"
    }
   ],
   "source": [
    "show(I, X, Y, Z, H, S, T)"
   ]
  },
  {
   "cell_type": "code",
   "execution_count": 14,
   "metadata": {},
   "outputs": [
    {
     "data": {
      "text/html": [
       "<html>\\[\\newcommand{\\Bold}[1]{\\mathbf{#1}}1\\]</html>"
      ],
      "text/latex": [
       "$$\\newcommand{\\Bold}[1]{\\mathbf{#1}}1$$"
      ],
      "text/plain": [
       "1"
      ]
     },
     "execution_count": 14,
     "metadata": {},
     "output_type": "execute_result"
    }
   ],
   "source": [
    "S[0][0]^2 + S[0][1]^2"
   ]
  },
  {
   "cell_type": "code",
   "execution_count": 20,
   "metadata": {},
   "outputs": [
    {
     "data": {
      "text/html": [
       "<html>\\[\\newcommand{\\Bold}[1]{\\mathbf{#1}}\\left(0,\\,0,\\,0\\right)\\]</html>"
      ],
      "text/latex": [
       "$$\\newcommand{\\Bold}[1]{\\mathbf{#1}}\\left(0,\\,0,\\,0\\right)$$"
      ],
      "text/plain": [
       "(0, 0, 0)"
      ]
     },
     "execution_count": 20,
     "metadata": {},
     "output_type": "execute_result"
    }
   ],
   "source": [
    "matrix(3,3)[:][1]"
   ]
  },
  {
   "cell_type": "code",
   "execution_count": null,
   "metadata": {},
   "outputs": [],
   "source": []
  },
  {
   "cell_type": "code",
   "execution_count": 35,
   "metadata": {},
   "outputs": [
    {
     "data": {
      "text/html": [
       "<html>\\[\\newcommand{\\Bold}[1]{\\mathbf{#1}}1\\]</html>"
      ],
      "text/latex": [
       "$$\\newcommand{\\Bold}[1]{\\mathbf{#1}}1$$"
      ],
      "text/plain": [
       "1"
      ]
     },
     "metadata": {},
     "output_type": "display_data"
    },
    {
     "ename": "TypeError",
     "evalue": "'sage.rings.integer.Integer' object is not subscriptable",
     "output_type": "error",
     "traceback": [
      "\u001b[0;31m---------------------------------------------------------------------------\u001b[0m",
      "\u001b[0;31mTypeError\u001b[0m                                 Traceback (most recent call last)",
      "\u001b[0;32m~/work/QC/definitions.py\u001b[0m in \u001b[0;36m<module>\u001b[0;34m\u001b[0m\n\u001b[1;32m      6\u001b[0m     \u001b[0;32mreturn\u001b[0m \u001b[0mT\u001b[0m\u001b[0;34m.\u001b[0m\u001b[0mtranspose\u001b[0m\u001b[0;34m(\u001b[0m\u001b[0;34m)\u001b[0m\u001b[0;34m;\u001b[0m\u001b[0;34m\u001b[0m\u001b[0;34m\u001b[0m\u001b[0m\n\u001b[1;32m      7\u001b[0m \u001b[0;34m\u001b[0m\u001b[0m\n\u001b[0;32m----> 8\u001b[0;31m \u001b[0mnormalize\u001b[0m\u001b[0;34m(\u001b[0m\u001b[0mI\u001b[0m\u001b[0;34m)\u001b[0m\u001b[0;34m\u001b[0m\u001b[0;34m\u001b[0m\u001b[0m\n\u001b[0m",
      "\u001b[0;32m~/work/QC/definitions.py\u001b[0m in \u001b[0;36mnormalize\u001b[0;34m(M)\u001b[0m\n\u001b[1;32m      3\u001b[0m     \u001b[0;32mfor\u001b[0m \u001b[0mi\u001b[0m \u001b[0;32min\u001b[0m \u001b[0mrange\u001b[0m\u001b[0;34m(\u001b[0m\u001b[0mInteger\u001b[0m\u001b[0;34m(\u001b[0m\u001b[0;36m0\u001b[0m\u001b[0;34m)\u001b[0m\u001b[0;34m,\u001b[0m \u001b[0mM\u001b[0m\u001b[0;34m.\u001b[0m\u001b[0mnrows\u001b[0m\u001b[0;34m(\u001b[0m\u001b[0;34m)\u001b[0m \u001b[0;34m-\u001b[0m \u001b[0mInteger\u001b[0m\u001b[0;34m(\u001b[0m\u001b[0;36m1\u001b[0m\u001b[0;34m)\u001b[0m\u001b[0;34m)\u001b[0m\u001b[0;34m:\u001b[0m\u001b[0;34m\u001b[0m\u001b[0;34m\u001b[0m\u001b[0m\n\u001b[1;32m      4\u001b[0m         \u001b[0mshow\u001b[0m\u001b[0;34m(\u001b[0m\u001b[0mT\u001b[0m\u001b[0;34m[\u001b[0m\u001b[0mi\u001b[0m\u001b[0;34m]\u001b[0m \u001b[0;34m*\u001b[0m \u001b[0mT\u001b[0m\u001b[0;34m[\u001b[0m\u001b[0mi\u001b[0m\u001b[0;34m]\u001b[0m\u001b[0;34m)\u001b[0m\u001b[0;34m\u001b[0m\u001b[0;34m\u001b[0m\u001b[0m\n\u001b[0;32m----> 5\u001b[0;31m         \u001b[0mT\u001b[0m\u001b[0;34m[\u001b[0m\u001b[0mi\u001b[0m\u001b[0;34m]\u001b[0m \u001b[0;34m=\u001b[0m \u001b[0mT\u001b[0m\u001b[0;34m[\u001b[0m\u001b[0mi\u001b[0m\u001b[0;34m]\u001b[0m \u001b[0;34m/\u001b[0m \u001b[0msqrt\u001b[0m\u001b[0;34m(\u001b[0m\u001b[0mT\u001b[0m\u001b[0;34m[\u001b[0m\u001b[0mi\u001b[0m\u001b[0;34m]\u001b[0m\u001b[0;34m.\u001b[0m\u001b[0mconjugate\u001b[0m\u001b[0;34m(\u001b[0m\u001b[0;34m)\u001b[0m \u001b[0;34m*\u001b[0m \u001b[0mT\u001b[0m\u001b[0;34m[\u001b[0m\u001b[0mi\u001b[0m\u001b[0;34m]\u001b[0m\u001b[0;34m)\u001b[0m\u001b[0;34m[\u001b[0m\u001b[0mInteger\u001b[0m\u001b[0;34m(\u001b[0m\u001b[0;36m0\u001b[0m\u001b[0;34m)\u001b[0m\u001b[0;34m]\u001b[0m\u001b[0;34m[\u001b[0m\u001b[0mInteger\u001b[0m\u001b[0;34m(\u001b[0m\u001b[0;36m0\u001b[0m\u001b[0;34m)\u001b[0m\u001b[0;34m]\u001b[0m\u001b[0;34m;\u001b[0m\u001b[0;34m\u001b[0m\u001b[0;34m\u001b[0m\u001b[0m\n\u001b[0m\u001b[1;32m      6\u001b[0m     \u001b[0;32mreturn\u001b[0m \u001b[0mT\u001b[0m\u001b[0;34m.\u001b[0m\u001b[0mtranspose\u001b[0m\u001b[0;34m(\u001b[0m\u001b[0;34m)\u001b[0m\u001b[0;34m;\u001b[0m\u001b[0;34m\u001b[0m\u001b[0;34m\u001b[0m\u001b[0m\n\u001b[1;32m      7\u001b[0m \u001b[0;34m\u001b[0m\u001b[0m\n",
      "\u001b[0;31mTypeError\u001b[0m: 'sage.rings.integer.Integer' object is not subscriptable"
     ]
    }
   ],
   "source": [
    "def normalize(M):\n",
    "    T = M.transpose();\n",
    "    for i in range(0, M.nrows() - 1):\n",
    "        show(T[i].conjugate() * T[i])\n",
    "        T[i] = T[i] / sqrt(T[i].conjugate() * T[i])[0][0];\n",
    "    return T.transpose();\n",
    "\n",
    "normalize(I)"
   ]
  },
  {
   "cell_type": "code",
   "execution_count": null,
   "metadata": {},
   "outputs": [],
   "source": []
  }
 ],
 "metadata": {
  "kernelspec": {
   "display_name": "SageMath 9.4",
   "language": "sage",
   "name": "sagemath"
  },
  "language_info": {
   "codemirror_mode": {
    "name": "ipython",
    "version": 3
   },
   "file_extension": ".py",
   "mimetype": "text/x-python",
   "name": "python",
   "nbconvert_exporter": "python",
   "pygments_lexer": "ipython3",
   "version": "3.9.5"
  }
 },
 "nbformat": 4,
 "nbformat_minor": 4
}
