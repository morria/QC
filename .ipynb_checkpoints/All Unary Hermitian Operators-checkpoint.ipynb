{
 "cells": [
  {
   "cell_type": "markdown",
   "metadata": {},
   "source": [
    "# All Hermitian Operators\n",
    "\n",
    "The goal here is the explore the space of all possible Hermitian operators."
   ]
  },
  {
   "cell_type": "code",
   "execution_count": 1,
   "metadata": {},
   "outputs": [],
   "source": [
    "%display typeset\n",
    "%run -i definitions.py"
   ]
  },
  {
   "cell_type": "markdown",
   "metadata": {},
   "source": [
    "# Hermitian Operators\n",
    "\n",
    "* Operators keep the probability of states normalized to 1\n",
    "* Operators are reversible, which is to say $U^{-1} = U$\n",
    "* Operators are unitary, which is to say $U^\\dagger = I$\n",
    "\n",
    "Observables in quantum mechanics are represented by linear operators that are equal to their own Hermitian conjugates.\n",
    "\n",
    "$$\n",
    "M = M^\\dagger\n",
    "$$\n",
    "\n",
    "which is to say\n",
    "\n",
    "$$\n",
    "m_{ji} = m^*_{ij}\n",
    "$$\n",
    "\n",
    "implying that if you flip a Hermitian matrix about the main diagonal and then take its complex conjugage, the result is the same as the original matrix.\n",
    "\n"
   ]
  },
  {
   "cell_type": "code",
   "execution_count": 2,
   "metadata": {},
   "outputs": [],
   "source": [
    "def isHermitian(M):\n",
    "    return M == hermitianConjugate(M)\n",
    "\n",
    "def isNormalizable(M):\n",
    "    return M != matrix(M.nrows(), M.ncols())"
   ]
  },
  {
   "cell_type": "code",
   "execution_count": 5,
   "metadata": {},
   "outputs": [],
   "source": [
    "a_r, b_r, b_i, c_i = var('a_r, b_r, b_i, c_i');\n",
    "assume(a_r, 'real')\n",
    "assume(b_r, 'real')\n",
    "\n",
    "# Unary Hermitian operators will take the form\n",
    "# ------------------------------\n",
    "# | a_r            b_r + i*b_i |\n",
    "# | b_r + i*c_i    a_r         |\n",
    "# ------------------------------\n",
    "\n",
    "\n",
    "hash = lambda M: ','.join([','.join([str(x) for x in r.list(False)]) for r in M.rows()])\n",
    "known = set([hash(M) for M in [X, Y, Z, H, I, S, T]])\n",
    "\n",
    "U = [];\n",
    "for a_r in [-1, 0, 1]:\n",
    "    for b_r in [-1, 0, 1]:\n",
    "        for b_i in [-1, 0, 1]:\n",
    "            for c_i in [-1, 0, 1]:\n",
    "                F = matrix([[a_r, b_r + b_i * i], [b_r + c_i * i, a_r]]);\n",
    "                if isNormalizable(F) and isHermitian(F) and hash(F) in known:\n",
    "                    U.append(F)\n",
    "\n",
    "# show(len(U))\n",
    "# show(U)\n",
    "# show([F*ket0 for F in U])"
   ]
  },
  {
   "cell_type": "code",
   "execution_count": 7,
   "metadata": {},
   "outputs": [],
   "source": [
    "# show(U[12], Y)\n",
    "# show(hash(U[12])== hash(Y))"
   ]
  },
  {
   "cell_type": "code",
   "execution_count": null,
   "metadata": {},
   "outputs": [],
   "source": [
    "def isRepresentable(state):\n",
    "    try:\n",
    "        state_to_spherical_coordinates(state)\n",
    "        return True;\n",
    "    except BaseException:\n",
    "        return False;\n",
    "\n",
    "def isNonDegenerate(state):\n",
    "    return state != matrix(state.nrows(), state.ncols());\n",
    "\n",
    "U_nd = [];\n",
    "for i in range(0, len(U) - 1):\n",
    "    non_degenerate = all([isRepresentable(U[i] * state) and isNonDegenerate(U[i] * state) for state in [ket0, ket1, ketI, ketINeg, ketPlus, ketMinus]]);\n",
    "    if non_degenerate:\n",
    "        U_nd.append(U[i])\n",
    "\n",
    "show(U)\n",
    "show([X, Y, Z, H, I, S, T])\n",
    "U_nd"
   ]
  },
  {
   "cell_type": "code",
   "execution_count": null,
   "metadata": {},
   "outputs": [],
   "source": [
    "bases = [\n",
    "    ket0,\n",
    "#    ket1,\n",
    "#    ketI,\n",
    "#    ketINeg,\n",
    "#    ketPlus,\n",
    "#    ketMinus\n",
    "];\n",
    "\n",
    "show(\n",
    "    bloch(ket0, vector_rgbcolor=(1, 0, 0))\n",
    "    + sum([sum([bloch_vector(normalize(i * b), rgbcolor=(0, 1, 0)) for i in U_nd[0:1]]) for b in bases])    ,\n",
    "    frame=False\n",
    ");"
   ]
  },
  {
   "cell_type": "code",
   "execution_count": null,
   "metadata": {},
   "outputs": [],
   "source": [
    "show(\n",
    "    bloch(ket1, vector_rgbcolor=(1, 0, 0))\n",
    "    + bloch_vector(R(pi) * ket1, rgbcolor=(0, 1, 0))\n",
    "    ,\n",
    "    frame=False\n",
    ");"
   ]
  },
  {
   "cell_type": "code",
   "execution_count": null,
   "metadata": {},
   "outputs": [],
   "source": [
    "show(ket1, R(pi) * ket1)"
   ]
  },
  {
   "cell_type": "code",
   "execution_count": null,
   "metadata": {},
   "outputs": [],
   "source": []
  }
 ],
 "metadata": {
  "kernelspec": {
   "display_name": "SageMath 9.4",
   "language": "sage",
   "name": "sagemath"
  },
  "language_info": {
   "codemirror_mode": {
    "name": "ipython",
    "version": 3
   },
   "file_extension": ".py",
   "mimetype": "text/x-python",
   "name": "python",
   "nbconvert_exporter": "python",
   "pygments_lexer": "ipython3",
   "version": "3.9.5"
  }
 },
 "nbformat": 4,
 "nbformat_minor": 4
}
